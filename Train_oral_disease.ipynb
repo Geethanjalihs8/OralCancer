{
 "cells": [
  {
   "cell_type": "code",
   "execution_count": 137,
   "id": "336c1921-5a02-41d5-986b-026afbfb913e",
   "metadata": {},
   "outputs": [],
   "source": [
    "import tensorflow as tf \n",
    "import matplotlib as plt\n",
    "import pandas as pd \n",
    "import seaborn as sns"
   ]
  },
  {
   "cell_type": "code",
   "execution_count": 138,
   "id": "813df3d3-f9bb-4254-ad98-2db28b02d2c1",
   "metadata": {},
   "outputs": [
    {
     "name": "stdout",
     "output_type": "stream",
     "text": [
      "Found 661 files belonging to 2 classes.\n"
     ]
    }
   ],
   "source": [
    "import tensorflow as tf \n",
    "training_set = tf.keras.utils.image_dataset_from_directory(\n",
    "    'C:\\\\Users\\\\GEETHANJALICHARVI\\\\OneDrive\\\\Documents\\\\oral cancer copy\\\\Oral Cancer\\\\Oral Cancer Dataset\\\\train',  # Path to your training directory\n",
    "    labels=\"inferred\",\n",
    "    label_mode=\"categorical\",\n",
    "    batch_size=32,\n",
    "    image_size=(128, 128),\n",
    "    shuffle=True,\n",
    "    seed=42\n",
    ")\n"
   ]
  },
  {
   "cell_type": "code",
   "execution_count": 139,
   "id": "44c3dd28-9ba4-4f6f-a99b-1ce7d7b2ab2f",
   "metadata": {},
   "outputs": [
    {
     "name": "stdout",
     "output_type": "stream",
     "text": [
      "Found 661 files belonging to 2 classes.\n"
     ]
    }
   ],
   "source": [
    "import tensorflow as tf\n",
    "\n",
    "training_set = tf.keras.utils.image_dataset_from_directory(\n",
    "    'C:\\\\Users\\\\GEETHANJALICHARVI\\\\OneDrive\\\\Documents\\\\oral cancer copy\\\\Oral Cancer\\\\Oral Cancer Dataset\\\\train',\n",
    "    labels=\"inferred\",\n",
    "    label_mode=\"categorical\",\n",
    "    class_names=None,\n",
    "    color_mode=\"rgb\",\n",
    "    batch_size=32,\n",
    "    image_size=(128,128),\n",
    "    shuffle=True,\n",
    "    seed=None,\n",
    "    validation_split=None,\n",
    "    subset=None,\n",
    "    interpolation=\"bilinear\",\n",
    "    follow_links=False\n",
    ")\n"
   ]
  },
  {
   "cell_type": "code",
   "execution_count": 140,
   "id": "9b74435a-cef8-4bec-bb06-934acd7ec949",
   "metadata": {},
   "outputs": [
    {
     "name": "stdout",
     "output_type": "stream",
     "text": [
      "['test', 'train', 'valid']\n"
     ]
    }
   ],
   "source": [
    "import os\n",
    "\n",
    "path = r\"C:\\Users\\GEETHANJALICHARVI\\OneDrive\\Documents\\oral cancer copy\\Oral Cancer\\Oral Cancer Dataset\"\n",
    "print(os.listdir(path))\n"
   ]
  },
  {
   "cell_type": "code",
   "execution_count": 141,
   "id": "41bd247d-34a1-4d6a-8e41-35877dc93f3c",
   "metadata": {},
   "outputs": [
    {
     "name": "stdout",
     "output_type": "stream",
     "text": [
      "Parent directory exists: True\n",
      "Contents of the parent directory: ['test', 'train', 'valid']\n"
     ]
    }
   ],
   "source": [
    "import os\n",
    "\n",
    "parent_path = r\"C:\\Users\\GEETHANJALICHARVI\\OneDrive\\Documents\\oral cancer copy\\Oral Cancer\\Oral Cancer Dataset\"\n",
    "print(\"Parent directory exists:\", os.path.exists(parent_path))\n",
    "if os.path.exists(parent_path):\n",
    "    print(\"Contents of the parent directory:\", os.listdir(parent_path))\n"
   ]
  },
  {
   "cell_type": "code",
   "execution_count": 142,
   "id": "27d8d9b6-904d-4343-808a-c2cf60bc1674",
   "metadata": {
    "jupyter": {
     "source_hidden": true
    }
   },
   "outputs": [
    {
     "name": "stdout",
     "output_type": "stream",
     "text": [
      "Found 661 files belonging to 2 classes.\n",
      "Training dataset loaded successfully.\n"
     ]
    }
   ],
   "source": [
    "import tensorflow as tf\n",
    "\n",
    "training_set = tf.keras.utils.image_dataset_from_directory(\n",
    "    'C:\\\\Users\\\\GEETHANJALICHARVI\\\\OneDrive\\\\Documents\\\\oral cancer copy\\\\Oral Cancer\\\\Oral Cancer Dataset\\\\train',  # Path to your training directory\n",
    "    labels=\"inferred\",  # Automatically infer the labels from folder names\n",
    "    label_mode=\"categorical\",  # Labels will be one-hot encoded\n",
    "    batch_size=32,\n",
    "    image_size=(128, 128),  # Resize images to 128x128\n",
    "    shuffle=True,  # Shuffle the dataset\n",
    "    seed=42,  # Set random seed for reproducibility\n",
    "    interpolation=\"bilinear\"  # Image interpolation method\n",
    ")\n",
    "\n",
    "print(\"Training dataset loaded successfully.\")\n"
   ]
  },
  {
   "cell_type": "code",
   "execution_count": 143,
   "id": "b4b06c93-faf8-4f30-ab74-17ad24930688",
   "metadata": {},
   "outputs": [
    {
     "data": {
      "text/plain": [
       "<BatchDataset element_spec=(TensorSpec(shape=(None, 128, 128, 3), dtype=tf.float32, name=None), TensorSpec(shape=(None, 2), dtype=tf.float32, name=None))>"
      ]
     },
     "execution_count": 143,
     "metadata": {},
     "output_type": "execute_result"
    }
   ],
   "source": [
    "training_set"
   ]
  },
  {
   "cell_type": "code",
   "execution_count": 144,
   "id": "bc1d8a4e-2fab-434a-86c0-d1e47b8bab2a",
   "metadata": {},
   "outputs": [
    {
     "name": "stdout",
     "output_type": "stream",
     "text": [
      "Found 661 images belonging to 2 classes.\n",
      "Found 950 images belonging to 2 classes.\n"
     ]
    }
   ],
   "source": [
    "from tensorflow.keras.preprocessing.image import ImageDataGenerator\n",
    "\n",
    "datagen = ImageDataGenerator(rescale=1./255)\n",
    "\n",
    "# Load the training dataset\n",
    "training_set = datagen.flow_from_directory(\n",
    "    'C:\\\\Users\\\\GEETHANJALICHARVI\\\\OneDrive\\\\Documents\\\\oral cancer copy\\\\Oral Cancer\\\\Oral Cancer Dataset\\\\train',\n",
    "    target_size=(128, 128),\n",
    "    batch_size=32,\n",
    "    class_mode='categorical'\n",
    ")\n",
    "\n",
    "# Load the validation dataset\n",
    "validation_set = datagen.flow_from_directory(\n",
    "    'C:\\\\Users\\\\GEETHANJALICHARVI\\\\OneDrive\\\\Documents\\\\oral cancer copy\\\\Oral Cancer\\\\Oral Cancer Dataset\\\\valid',\n",
    "    target_size=(128, 128),\n",
    "    batch_size=32,\n",
    "    class_mode='categorical'\n",
    ")\n"
   ]
  },
  {
   "cell_type": "code",
   "execution_count": 145,
   "id": "71363e16-b611-459c-bb86-a090b26f50bc",
   "metadata": {},
   "outputs": [
    {
     "name": "stdout",
     "output_type": "stream",
     "text": [
      "Files in directory: ['class1', 'class2']\n"
     ]
    }
   ],
   "source": [
    "import os\n",
    "\n",
    "# Path to your training directory\n",
    "path = r'C:\\\\Users\\\\GEETHANJALICHARVI\\\\OneDrive\\\\Documents\\\\oral cancer copy\\\\Oral Cancer\\\\Oral Cancer Dataset\\\\train'\n",
    "\n",
    "# List files in the directory\n",
    "files = os.listdir(path)\n",
    "print(f\"Files in directory: {files}\")\n"
   ]
  },
  {
   "cell_type": "code",
   "execution_count": 146,
   "id": "0df9b514-1625-441d-899f-4b49e41af8d6",
   "metadata": {},
   "outputs": [
    {
     "data": {
      "text/plain": [
       "<keras.preprocessing.image.DirectoryIterator at 0x24405b3a230>"
      ]
     },
     "execution_count": 146,
     "metadata": {},
     "output_type": "execute_result"
    }
   ],
   "source": [
    "training_set"
   ]
  },
  {
   "cell_type": "code",
   "execution_count": 147,
   "id": "c751f1b1-93b0-4eed-945c-e047bb3fbb34",
   "metadata": {},
   "outputs": [
    {
     "name": "stdout",
     "output_type": "stream",
     "text": [
      "[[[[0.6901961  0.5137255  0.6666667 ]\n",
      "   [0.7137255  0.5568628  0.7019608 ]\n",
      "   [0.75294125 0.6156863  0.7725491 ]\n",
      "   ...\n",
      "   [0.64705884 0.43529415 0.49803925]\n",
      "   [0.6509804  0.43921572 0.5019608 ]\n",
      "   [0.6509804  0.43529415 0.50980395]]\n",
      "\n",
      "  [[0.75294125 0.63529414 0.77647066]\n",
      "   [0.7725491  0.654902   0.7960785 ]\n",
      "   [0.7843138  0.68235296 0.8352942 ]\n",
      "   ...\n",
      "   [0.6666667  0.454902   0.5176471 ]\n",
      "   [0.6627451  0.45098042 0.5137255 ]\n",
      "   [0.6745098  0.46274513 0.5254902 ]]\n",
      "\n",
      "  [[0.79215693 0.7058824  0.8588236 ]\n",
      "   [0.80392164 0.7176471  0.8705883 ]\n",
      "   [0.8078432  0.72156864 0.8745099 ]\n",
      "   ...\n",
      "   [0.654902   0.43137258 0.49803925]\n",
      "   [0.67058825 0.43921572 0.50980395]\n",
      "   [0.6745098  0.4431373  0.5137255 ]]\n",
      "\n",
      "  ...\n",
      "\n",
      "  [[0.29411766 0.36078432 0.57254905]\n",
      "   [0.29803923 0.36078432 0.5647059 ]\n",
      "   [0.30588236 0.35686275 0.56078434]\n",
      "   ...\n",
      "   [0.40000004 0.33333334 0.40784317]\n",
      "   [0.3921569  0.31764707 0.3921569 ]\n",
      "   [0.3019608  0.2627451  0.35686275]]\n",
      "\n",
      "  [[0.3137255  0.3647059  0.5686275 ]\n",
      "   [0.32156864 0.36862746 0.5647059 ]\n",
      "   [0.33333334 0.37254903 0.5647059 ]\n",
      "   ...\n",
      "   [0.28235295 0.2392157  0.35686275]\n",
      "   [0.3254902  0.28235295 0.40784317]\n",
      "   [0.3921569  0.33333334 0.44705886]]\n",
      "\n",
      "  [[0.36078432 0.37254903 0.5803922 ]\n",
      "   [0.34117648 0.3647059  0.56078434]\n",
      "   [0.35686275 0.3803922  0.5686275 ]\n",
      "   ...\n",
      "   [0.38823533 0.32941177 0.4431373 ]\n",
      "   [0.34117648 0.2784314  0.3921569 ]\n",
      "   [0.36078432 0.27450982 0.42352945]]]\n",
      "\n",
      "\n",
      " [[[0.5019608  0.33333334 0.30588236]\n",
      "   [0.64705884 0.49803925 0.46274513]\n",
      "   [0.63529414 0.4901961  0.454902  ]\n",
      "   ...\n",
      "   [0.32941177 0.14901961 0.14901961]\n",
      "   [0.34509805 0.15686275 0.15686275]\n",
      "   [0.41176474 0.21568629 0.21960786]]\n",
      "\n",
      "  [[0.54901963 0.37254903 0.34901962]\n",
      "   [0.69411767 0.5372549  0.5058824 ]\n",
      "   [0.6745098  0.5294118  0.49411768]\n",
      "   ...\n",
      "   [0.3019608  0.12941177 0.1254902 ]\n",
      "   [0.31764707 0.13725491 0.13725491]\n",
      "   [0.32941177 0.14901961 0.14901961]]\n",
      "\n",
      "  [[0.6039216  0.41960788 0.39607847]\n",
      "   [0.69803923 0.5294118  0.5019608 ]\n",
      "   [0.6745098  0.5254902  0.4901961 ]\n",
      "   ...\n",
      "   [0.29411766 0.13725491 0.12941177]\n",
      "   [0.29803923 0.13725491 0.12941177]\n",
      "   [0.3019608  0.14117648 0.13333334]]\n",
      "\n",
      "  ...\n",
      "\n",
      "  [[0.5568628  0.4431373  0.37254903]\n",
      "   [0.6862745  0.5647059  0.49411768]\n",
      "   [0.68235296 0.5529412  0.4784314 ]\n",
      "   ...\n",
      "   [0.80392164 0.53333336 0.5058824 ]\n",
      "   [0.7960785  0.5254902  0.5058824 ]\n",
      "   [0.79215693 0.5294118  0.5058824 ]]\n",
      "\n",
      "  [[0.5372549  0.427451   0.37254903]\n",
      "   [0.5764706  0.46274513 0.40000004]\n",
      "   [0.63529414 0.5058824  0.43921572]\n",
      "   ...\n",
      "   [0.8588236  0.5882353  0.5686275 ]\n",
      "   [0.82745105 0.56078434 0.5568628 ]\n",
      "   [0.8235295  0.5686275  0.56078434]]\n",
      "\n",
      "  [[0.42352945 0.31764707 0.27450982]\n",
      "   [0.49803925 0.38823533 0.34117648]\n",
      "   [0.5176471  0.3921569  0.34117648]\n",
      "   ...\n",
      "   [0.81568635 0.54509807 0.5254902 ]\n",
      "   [0.7960785  0.5294118  0.5176471 ]\n",
      "   [0.8117648  0.54509807 0.5411765 ]]]\n",
      "\n",
      "\n",
      " [[[0.76470596 0.654902   0.6117647 ]\n",
      "   [0.76470596 0.65882355 0.6156863 ]\n",
      "   [0.7411765  0.654902   0.6117647 ]\n",
      "   ...\n",
      "   [0.43137258 0.30588236 0.24705884]\n",
      "   [0.3921569  0.26666668 0.20784315]\n",
      "   [0.36078432 0.23529413 0.1764706 ]]\n",
      "\n",
      "  [[0.7568628  0.64705884 0.6039216 ]\n",
      "   [0.7490196  0.6431373  0.6       ]\n",
      "   [0.73333335 0.6392157  0.6       ]\n",
      "   ...\n",
      "   [0.41960788 0.29411766 0.23529413]\n",
      "   [0.3803922  0.25490198 0.19607845]\n",
      "   [0.34901962 0.22352943 0.16470589]]\n",
      "\n",
      "  [[0.74509805 0.6392157  0.59607846]\n",
      "   [0.7411765  0.63529414 0.5921569 ]\n",
      "   [0.7294118  0.62352943 0.5882353 ]\n",
      "   ...\n",
      "   [0.40784317 0.28235295 0.22352943]\n",
      "   [0.36862746 0.24313727 0.18431373]\n",
      "   [0.3372549  0.21176472 0.15294118]]\n",
      "\n",
      "  ...\n",
      "\n",
      "  [[0.52156866 0.5882353  0.6509804 ]\n",
      "   [0.52156866 0.5882353  0.6509804 ]\n",
      "   [0.5176471  0.5921569  0.6509804 ]\n",
      "   ...\n",
      "   [0.59607846 0.6666667  0.7058824 ]\n",
      "   [0.6        0.67058825 0.70980394]\n",
      "   [0.59607846 0.6666667  0.7058824 ]]\n",
      "\n",
      "  [[0.5137255  0.5803922  0.6431373 ]\n",
      "   [0.5137255  0.5803922  0.6431373 ]\n",
      "   [0.5176471  0.5921569  0.6509804 ]\n",
      "   ...\n",
      "   [0.59607846 0.6666667  0.7058824 ]\n",
      "   [0.59607846 0.6666667  0.7058824 ]\n",
      "   [0.59607846 0.6666667  0.7058824 ]]\n",
      "\n",
      "  [[0.5137255  0.5803922  0.6431373 ]\n",
      "   [0.5137255  0.5803922  0.6431373 ]\n",
      "   [0.50980395 0.58431375 0.6431373 ]\n",
      "   ...\n",
      "   [0.59607846 0.6666667  0.7058824 ]\n",
      "   [0.59607846 0.6666667  0.7058824 ]\n",
      "   [0.6        0.67058825 0.70980394]]]\n",
      "\n",
      "\n",
      " ...\n",
      "\n",
      "\n",
      " [[[0.7058824  0.35686275 0.28627452]\n",
      "   [0.65882355 0.41176474 0.2392157 ]\n",
      "   [0.7372549  0.5568628  0.3529412 ]\n",
      "   ...\n",
      "   [0.7843138  0.5686275  0.45098042]\n",
      "   [0.80392164 0.60784316 0.5176471 ]\n",
      "   [0.8000001  0.5921569  0.47058827]]\n",
      "\n",
      "  [[0.6784314  0.36078432 0.2784314 ]\n",
      "   [0.62352943 0.37647063 0.20392159]\n",
      "   [0.7254902  0.53333336 0.3137255 ]\n",
      "   ...\n",
      "   [0.81568635 0.6156863  0.5019608 ]\n",
      "   [0.7843138  0.58431375 0.4784314 ]\n",
      "   [0.7843138  0.5921569  0.47450984]]\n",
      "\n",
      "  [[0.6627451  0.36862746 0.2784314 ]\n",
      "   [0.6        0.36078432 0.18431373]\n",
      "   [0.70980394 0.50980395 0.28627452]\n",
      "   ...\n",
      "   [0.8000001  0.6039216  0.49803925]\n",
      "   [0.80392164 0.58431375 0.4784314 ]\n",
      "   [0.79215693 0.6        0.48235297]]\n",
      "\n",
      "  ...\n",
      "\n",
      "  [[0.33333334 0.20392159 0.14509805]\n",
      "   [0.3372549  0.20392159 0.16862746]\n",
      "   [0.31764707 0.16862746 0.15686275]\n",
      "   ...\n",
      "   [0.58431375 0.3529412  0.28235295]\n",
      "   [0.54901963 0.31764707 0.25490198]\n",
      "   [0.5882353  0.36078432 0.27450982]]\n",
      "\n",
      "  [[0.32941177 0.20000002 0.14117648]\n",
      "   [0.3137255  0.18039216 0.14509805]\n",
      "   [0.30980393 0.16470589 0.14117648]\n",
      "   ...\n",
      "   [0.58431375 0.3529412  0.28235295]\n",
      "   [0.5529412  0.32156864 0.25882354]\n",
      "   [0.58431375 0.35686275 0.27058825]]\n",
      "\n",
      "  [[0.32156864 0.19215688 0.13333334]\n",
      "   [0.32941177 0.19607845 0.16078432]\n",
      "   [0.3254902  0.18039216 0.14509805]\n",
      "   ...\n",
      "   [0.5647059  0.33333334 0.2627451 ]\n",
      "   [0.5529412  0.32156864 0.25882354]\n",
      "   [0.5686275  0.34117648 0.25490198]]]\n",
      "\n",
      "\n",
      " [[[0.3921569  0.33333334 0.30588236]\n",
      "   [0.3803922  0.3137255  0.28235295]\n",
      "   [0.39607847 0.31764707 0.2901961 ]\n",
      "   ...\n",
      "   [0.2784314  0.1137255  0.11764707]\n",
      "   [0.27058825 0.10588236 0.10980393]\n",
      "   [0.2784314  0.10196079 0.09019608]]\n",
      "\n",
      "  [[0.36078432 0.3019608  0.28235295]\n",
      "   [0.3803922  0.3137255  0.28235295]\n",
      "   [0.4156863  0.3372549  0.3019608 ]\n",
      "   ...\n",
      "   [0.27058825 0.1137255  0.1137255 ]\n",
      "   [0.2784314  0.12156864 0.12156864]\n",
      "   [0.27450982 0.10196079 0.09803922]]\n",
      "\n",
      "  [[0.37647063 0.30980393 0.2784314 ]\n",
      "   [0.40784317 0.3372549  0.29803923]\n",
      "   [0.42352945 0.3372549  0.29411766]\n",
      "   ...\n",
      "   [0.27450982 0.11764707 0.11764707]\n",
      "   [0.28235295 0.1254902  0.1254902 ]\n",
      "   [0.2627451  0.10196079 0.09411766]]\n",
      "\n",
      "  ...\n",
      "\n",
      "  [[0.47450984 0.45882356 0.454902  ]\n",
      "   [0.4666667  0.45098042 0.44705886]\n",
      "   [0.46274513 0.44705886 0.4431373 ]\n",
      "   ...\n",
      "   [0.63529414 0.5529412  0.54901963]\n",
      "   [0.63529414 0.5529412  0.54901963]\n",
      "   [0.6431373  0.56078434 0.5568628 ]]\n",
      "\n",
      "  [[0.4666667  0.45098042 0.44705886]\n",
      "   [0.46274513 0.44705886 0.4431373 ]\n",
      "   [0.4666667  0.45098042 0.44705886]\n",
      "   ...\n",
      "   [0.6431373  0.54901963 0.54901963]\n",
      "   [0.63529414 0.5411765  0.5411765 ]\n",
      "   [0.6313726  0.5372549  0.5294118 ]]\n",
      "\n",
      "  [[0.45098042 0.43529415 0.43137258]\n",
      "   [0.454902   0.43921572 0.43529415]\n",
      "   [0.45882356 0.4431373  0.43921572]\n",
      "   ...\n",
      "   [0.6431373  0.5411765  0.54509807]\n",
      "   [0.6431373  0.5411765  0.54509807]\n",
      "   [0.627451   0.53333336 0.5254902 ]]]\n",
      "\n",
      "\n",
      " [[[0.3803922  0.20000002 0.21176472]\n",
      "   [0.39607847 0.21176472 0.23529413]\n",
      "   [0.39607847 0.21960786 0.24705884]\n",
      "   ...\n",
      "   [0.52156866 0.41960788 0.4156863 ]\n",
      "   [0.5254902  0.43137258 0.42352945]\n",
      "   [0.52156866 0.427451   0.41960788]]\n",
      "\n",
      "  [[0.38431376 0.20392159 0.21568629]\n",
      "   [0.40000004 0.21568629 0.2392157 ]\n",
      "   [0.37254903 0.19607845 0.22352943]\n",
      "   ...\n",
      "   [0.52156866 0.427451   0.41960788]\n",
      "   [0.53333336 0.43921572 0.43137258]\n",
      "   [0.5254902  0.43137258 0.42352945]]\n",
      "\n",
      "  [[0.3921569  0.227451   0.24313727]\n",
      "   [0.36862746 0.20392159 0.21960786]\n",
      "   [0.29803923 0.13725491 0.16078432]\n",
      "   ...\n",
      "   [0.52156866 0.43921572 0.427451  ]\n",
      "   [0.5176471  0.43529415 0.42352945]\n",
      "   [0.50980395 0.427451   0.4156863 ]]\n",
      "\n",
      "  ...\n",
      "\n",
      "  [[0.27450982 0.19607845 0.20000002]\n",
      "   [0.2627451  0.18431373 0.19215688]\n",
      "   [0.27450982 0.19607845 0.20392159]\n",
      "   ...\n",
      "   [0.47058827 0.34901962 0.3803922 ]\n",
      "   [0.49411768 0.38823533 0.42352945]\n",
      "   [0.5019608  0.39607847 0.43137258]]\n",
      "\n",
      "  [[0.2627451  0.18431373 0.18823531]\n",
      "   [0.27450982 0.19607845 0.20000002]\n",
      "   [0.27450982 0.19607845 0.20000002]\n",
      "   ...\n",
      "   [0.44705886 0.30980393 0.33333334]\n",
      "   [0.4901961  0.36078432 0.39607847]\n",
      "   [0.49411768 0.37647063 0.4156863 ]]\n",
      "\n",
      "  [[0.2627451  0.18431373 0.18823531]\n",
      "   [0.27450982 0.19607845 0.20000002]\n",
      "   [0.27450982 0.19607845 0.20000002]\n",
      "   ...\n",
      "   [0.4784314  0.3529412  0.37254903]\n",
      "   [0.48627454 0.3647059  0.39607847]\n",
      "   [0.48235297 0.37647063 0.41176474]]]] (32, 128, 128, 3)\n",
      "[[0. 1.]\n",
      " [1. 0.]\n",
      " [0. 1.]\n",
      " [0. 1.]\n",
      " [1. 0.]\n",
      " [1. 0.]\n",
      " [0. 1.]\n",
      " [1. 0.]\n",
      " [1. 0.]\n",
      " [0. 1.]\n",
      " [0. 1.]\n",
      " [0. 1.]\n",
      " [1. 0.]\n",
      " [0. 1.]\n",
      " [1. 0.]\n",
      " [0. 1.]\n",
      " [0. 1.]\n",
      " [0. 1.]\n",
      " [0. 1.]\n",
      " [0. 1.]\n",
      " [0. 1.]\n",
      " [0. 1.]\n",
      " [0. 1.]\n",
      " [0. 1.]\n",
      " [0. 1.]\n",
      " [1. 0.]\n",
      " [0. 1.]\n",
      " [0. 1.]\n",
      " [0. 1.]\n",
      " [0. 1.]\n",
      " [1. 0.]\n",
      " [1. 0.]] (32, 2)\n"
     ]
    }
   ],
   "source": [
    "for x,y in training_set:\n",
    "    print(x,x.shape)\n",
    "    print(y,y.shape)\n",
    "    break"
   ]
  },
  {
   "cell_type": "code",
   "execution_count": 148,
   "id": "23f8660d-530f-4f72-b2c2-0c12c5649750",
   "metadata": {},
   "outputs": [],
   "source": [
    "from tensorflow.keras.layers import Dense,Conv2D,MaxPool2D,Flatten,Dropout\n",
    "from tensorflow.keras.models import Sequential "
   ]
  },
  {
   "cell_type": "code",
   "execution_count": 149,
   "id": "77e3e2fe-2975-4509-bb26-65b90cffc9d8",
   "metadata": {},
   "outputs": [],
   "source": [
    "model = Sequential()"
   ]
  },
  {
   "cell_type": "code",
   "execution_count": 150,
   "id": "3e61c976-6313-43d8-b8ad-64cf962f27b0",
   "metadata": {},
   "outputs": [],
   "source": [
    "from tensorflow.keras.layers import Conv2D, MaxPool2D, Flatten, Dense\n",
    "\n",
    "# Your model code\n",
    "model.add(Conv2D(filters=32, kernel_size=3, padding='same', activation='relu', input_shape=(128, 128,3)))\n",
    "model.add(Conv2D(filters=32, kernel_size=3, activation='relu'))\n",
    "model.add(MaxPool2D(pool_size=2, strides=2))"
   ]
  },
  {
   "cell_type": "code",
   "execution_count": 151,
   "id": "fca2096d-2c1d-485d-a01f-6ef8e1ee7914",
   "metadata": {},
   "outputs": [],
   "source": [
    "from tensorflow.keras.layers import Conv2D, MaxPool2D, Flatten, Dense\n",
    "\n",
    "# Your model code\n",
    "model.add(Conv2D(filters=64, kernel_size=3, padding='same', activation='relu', input_shape=(128, 128, 3)))\n",
    "model.add(Conv2D(filters=64, kernel_size=3,activation='relu'))\n",
    "model.add(MaxPool2D(pool_size=2, strides=2))"
   ]
  },
  {
   "cell_type": "code",
   "execution_count": 152,
   "id": "619024ab-8bdd-4cec-92af-3d50476baad8",
   "metadata": {},
   "outputs": [],
   "source": [
    "from tensorflow.keras.layers import Conv2D, MaxPool2D, Flatten, Dense\n",
    "\n",
    "# Your model code\n",
    "model.add(Conv2D(filters=128, kernel_size=3, padding='same', activation='relu', input_shape=(128, 128, 3)))\n",
    "model.add(Conv2D(filters=128, kernel_size=3,activation='relu'))\n",
    "model.add(MaxPool2D(pool_size=2, strides=2))"
   ]
  },
  {
   "cell_type": "code",
   "execution_count": 153,
   "id": "fd3066bc-c773-4112-815a-6adca1eb1f5c",
   "metadata": {},
   "outputs": [],
   "source": [
    "from tensorflow.keras.layers import Conv2D, MaxPool2D, Flatten, Dense\n",
    "\n",
    "# Your model code\n",
    "model.add(Conv2D(filters=256, kernel_size=3, padding='same', activation='relu', input_shape=(128, 128, 3)))\n",
    "model.add(Conv2D(filters=256, kernel_size=3, activation='relu'))\n",
    "model.add(MaxPool2D(pool_size=2, strides=2))"
   ]
  },
  {
   "cell_type": "code",
   "execution_count": 154,
   "id": "874b5cba-8aa1-41ec-a28b-d71f7d6e2e16",
   "metadata": {},
   "outputs": [],
   "source": [
    "from tensorflow.keras.layers import Conv2D, MaxPool2D, Flatten, Dense\n",
    "\n",
    "# Your model code\n",
    "model.add(Conv2D(filters=512, kernel_size=3, padding='same', activation='relu', input_shape=(128, 128, 3)))\n",
    "model.add(Conv2D(filters=512, kernel_size=3,activation='relu'))\n",
    "model.add(MaxPool2D(pool_size=2, strides=2))"
   ]
  },
  {
   "cell_type": "code",
   "execution_count": 155,
   "id": "ccb4c3dd-8ed5-4f76-9d6d-6b2762604ba4",
   "metadata": {},
   "outputs": [],
   "source": [
    "model.add(Dropout(0.25)) #avoid overfitting"
   ]
  },
  {
   "cell_type": "code",
   "execution_count": 156,
   "id": "976d9652-c0f1-41ad-8342-1c3e2e4be6d9",
   "metadata": {},
   "outputs": [],
   "source": [
    "model.add(Flatten())\n"
   ]
  },
  {
   "cell_type": "code",
   "execution_count": 157,
   "id": "6bdf578a-1c2c-48ea-8d29-43f2809c4cfc",
   "metadata": {},
   "outputs": [],
   "source": [
    "model.add(Dense(units=1500, activation='relu'))"
   ]
  },
  {
   "cell_type": "code",
   "execution_count": 158,
   "id": "bbc6c49a-82f5-4bd8-8f96-4988c4f50ccc",
   "metadata": {},
   "outputs": [],
   "source": [
    "model.add(Dropout(0.4))"
   ]
  },
  {
   "cell_type": "code",
   "execution_count": 159,
   "id": "626c35fa-619c-45f6-a1ae-2450a26b08da",
   "metadata": {},
   "outputs": [],
   "source": [
    "#output layer \n",
    "model.add(Dense(units=38,activation='softmax'))"
   ]
  },
  {
   "cell_type": "code",
   "execution_count": 160,
   "id": "61c5c99e-4663-4bc2-bc28-10959545fada",
   "metadata": {},
   "outputs": [],
   "source": [
    "model.compile(optimizer=tf.keras.optimizers.legacy.Adam(\n",
    "    learning_rate=0.0001), loss='categorical_crossentropy', metrics=['accuracy'])\n"
   ]
  },
  {
   "cell_type": "code",
   "execution_count": 161,
   "id": "b39219d3-0b46-4516-bb30-10dd652dd4c3",
   "metadata": {},
   "outputs": [
    {
     "name": "stdout",
     "output_type": "stream",
     "text": [
      "Model: \"sequential_10\"\n",
      "_________________________________________________________________\n",
      " Layer (type)                Output Shape              Param #   \n",
      "=================================================================\n",
      " conv2d_50 (Conv2D)          (None, 128, 128, 32)      896       \n",
      "                                                                 \n",
      " conv2d_51 (Conv2D)          (None, 126, 126, 32)      9248      \n",
      "                                                                 \n",
      " max_pooling2d_25 (MaxPoolin  (None, 63, 63, 32)       0         \n",
      " g2D)                                                            \n",
      "                                                                 \n",
      " conv2d_52 (Conv2D)          (None, 63, 63, 64)        18496     \n",
      "                                                                 \n",
      " conv2d_53 (Conv2D)          (None, 61, 61, 64)        36928     \n",
      "                                                                 \n",
      " max_pooling2d_26 (MaxPoolin  (None, 30, 30, 64)       0         \n",
      " g2D)                                                            \n",
      "                                                                 \n",
      " conv2d_54 (Conv2D)          (None, 30, 30, 128)       73856     \n",
      "                                                                 \n",
      " conv2d_55 (Conv2D)          (None, 28, 28, 128)       147584    \n",
      "                                                                 \n",
      " max_pooling2d_27 (MaxPoolin  (None, 14, 14, 128)      0         \n",
      " g2D)                                                            \n",
      "                                                                 \n",
      " conv2d_56 (Conv2D)          (None, 14, 14, 256)       295168    \n",
      "                                                                 \n",
      " conv2d_57 (Conv2D)          (None, 12, 12, 256)       590080    \n",
      "                                                                 \n",
      " max_pooling2d_28 (MaxPoolin  (None, 6, 6, 256)        0         \n",
      " g2D)                                                            \n",
      "                                                                 \n",
      " conv2d_58 (Conv2D)          (None, 6, 6, 512)         1180160   \n",
      "                                                                 \n",
      " conv2d_59 (Conv2D)          (None, 4, 4, 512)         2359808   \n",
      "                                                                 \n",
      " max_pooling2d_29 (MaxPoolin  (None, 2, 2, 512)        0         \n",
      " g2D)                                                            \n",
      "                                                                 \n",
      " dropout_7 (Dropout)         (None, 2, 2, 512)         0         \n",
      "                                                                 \n",
      " flatten_4 (Flatten)         (None, 2048)              0         \n",
      "                                                                 \n",
      " dense_12 (Dense)            (None, 1500)              3073500   \n",
      "                                                                 \n",
      " dropout_8 (Dropout)         (None, 1500)              0         \n",
      "                                                                 \n",
      " dense_13 (Dense)            (None, 38)                57038     \n",
      "                                                                 \n",
      "=================================================================\n",
      "Total params: 7,842,762\n",
      "Trainable params: 7,842,762\n",
      "Non-trainable params: 0\n",
      "_________________________________________________________________\n"
     ]
    }
   ],
   "source": [
    "model.summary()"
   ]
  },
  {
   "cell_type": "code",
   "execution_count": 162,
   "id": "0e83fc6f-655c-4cd0-8a36-071f3a79841f",
   "metadata": {},
   "outputs": [
    {
     "data": {
      "text/plain": [
       "<keras.layers.core.dense.Dense at 0x2437d420850>"
      ]
     },
     "execution_count": 162,
     "metadata": {},
     "output_type": "execute_result"
    }
   ],
   "source": [
    "tf.keras.layers.Dense(2, activation='softmax')\n"
   ]
  },
  {
   "cell_type": "code",
   "execution_count": 163,
   "id": "e1f0db4f-11ed-444b-a252-dfb74646871d",
   "metadata": {},
   "outputs": [
    {
     "name": "stdout",
     "output_type": "stream",
     "text": [
      "[[1. 0.]\n",
      " [0. 1.]]\n"
     ]
    }
   ],
   "source": [
    "import tensorflow as tf\n",
    "\n",
    "# Number of classes (ensure this matches your dataset)\n",
    "num_classes = 2 \n",
    "\n",
    "def preprocess_labels(labels):\n",
    "    labels = tf.one_hot(labels, depth=num_classes)  # Ensure one-hot encoding\n",
    "    return labels\n",
    "\n",
    "# Example labels (can be single or batch)\n",
    "labels = tf.constant([0, 1])  # Batch of labels\n",
    "\n",
    "# Process labels\n",
    "processed_labels = preprocess_labels(labels)\n",
    "\n",
    "# Convert TensorFlow tensor to NumPy array and print\n",
    "print(processed_labels.numpy())\n"
   ]
  },
  {
   "cell_type": "code",
   "execution_count": 164,
   "id": "def5c5d0-2e2b-491c-9e6b-bafc1c31d8b5",
   "metadata": {},
   "outputs": [
    {
     "name": "stdout",
     "output_type": "stream",
     "text": [
      "Epoch 1/10\n"
     ]
    },
    {
     "ename": "InvalidArgumentError",
     "evalue": "Graph execution error:\n\nDetected at node 'categorical_crossentropy/softmax_cross_entropy_with_logits' defined at (most recent call last):\n    File \"c:\\Users\\GEETHANJALICHARVI\\anaconda3\\envs\\tensorflow_env\\lib\\runpy.py\", line 196, in _run_module_as_main\n      return _run_code(code, main_globals, None,\n    File \"c:\\Users\\GEETHANJALICHARVI\\anaconda3\\envs\\tensorflow_env\\lib\\runpy.py\", line 86, in _run_code\n      exec(code, run_globals)\n    File \"c:\\Users\\GEETHANJALICHARVI\\anaconda3\\envs\\tensorflow_env\\lib\\site-packages\\ipykernel_launcher.py\", line 18, in <module>\n      app.launch_new_instance()\n    File \"c:\\Users\\GEETHANJALICHARVI\\anaconda3\\envs\\tensorflow_env\\lib\\site-packages\\traitlets\\config\\application.py\", line 1075, in launch_instance\n      app.start()\n    File \"c:\\Users\\GEETHANJALICHARVI\\anaconda3\\envs\\tensorflow_env\\lib\\site-packages\\ipykernel\\kernelapp.py\", line 739, in start\n      self.io_loop.start()\n    File \"c:\\Users\\GEETHANJALICHARVI\\anaconda3\\envs\\tensorflow_env\\lib\\site-packages\\tornado\\platform\\asyncio.py\", line 205, in start\n      self.asyncio_loop.run_forever()\n    File \"c:\\Users\\GEETHANJALICHARVI\\anaconda3\\envs\\tensorflow_env\\lib\\asyncio\\base_events.py\", line 603, in run_forever\n      self._run_once()\n    File \"c:\\Users\\GEETHANJALICHARVI\\anaconda3\\envs\\tensorflow_env\\lib\\asyncio\\base_events.py\", line 1909, in _run_once\n      handle._run()\n    File \"c:\\Users\\GEETHANJALICHARVI\\anaconda3\\envs\\tensorflow_env\\lib\\asyncio\\events.py\", line 80, in _run\n      self._context.run(self._callback, *self._args)\n    File \"c:\\Users\\GEETHANJALICHARVI\\anaconda3\\envs\\tensorflow_env\\lib\\site-packages\\ipykernel\\kernelbase.py\", line 545, in dispatch_queue\n      await self.process_one()\n    File \"c:\\Users\\GEETHANJALICHARVI\\anaconda3\\envs\\tensorflow_env\\lib\\site-packages\\ipykernel\\kernelbase.py\", line 534, in process_one\n      await dispatch(*args)\n    File \"c:\\Users\\GEETHANJALICHARVI\\anaconda3\\envs\\tensorflow_env\\lib\\site-packages\\ipykernel\\kernelbase.py\", line 437, in dispatch_shell\n      await result\n    File \"c:\\Users\\GEETHANJALICHARVI\\anaconda3\\envs\\tensorflow_env\\lib\\site-packages\\ipykernel\\ipkernel.py\", line 362, in execute_request\n      await super().execute_request(stream, ident, parent)\n    File \"c:\\Users\\GEETHANJALICHARVI\\anaconda3\\envs\\tensorflow_env\\lib\\site-packages\\ipykernel\\kernelbase.py\", line 778, in execute_request\n      reply_content = await reply_content\n    File \"c:\\Users\\GEETHANJALICHARVI\\anaconda3\\envs\\tensorflow_env\\lib\\site-packages\\ipykernel\\ipkernel.py\", line 449, in do_execute\n      res = shell.run_cell(\n    File \"c:\\Users\\GEETHANJALICHARVI\\anaconda3\\envs\\tensorflow_env\\lib\\site-packages\\ipykernel\\zmqshell.py\", line 549, in run_cell\n      return super().run_cell(*args, **kwargs)\n    File \"c:\\Users\\GEETHANJALICHARVI\\anaconda3\\envs\\tensorflow_env\\lib\\site-packages\\IPython\\core\\interactiveshell.py\", line 3075, in run_cell\n      result = self._run_cell(\n    File \"c:\\Users\\GEETHANJALICHARVI\\anaconda3\\envs\\tensorflow_env\\lib\\site-packages\\IPython\\core\\interactiveshell.py\", line 3130, in _run_cell\n      result = runner(coro)\n    File \"c:\\Users\\GEETHANJALICHARVI\\anaconda3\\envs\\tensorflow_env\\lib\\site-packages\\IPython\\core\\async_helpers.py\", line 128, in _pseudo_sync_runner\n      coro.send(None)\n    File \"c:\\Users\\GEETHANJALICHARVI\\anaconda3\\envs\\tensorflow_env\\lib\\site-packages\\IPython\\core\\interactiveshell.py\", line 3334, in run_cell_async\n      has_raised = await self.run_ast_nodes(code_ast.body, cell_name,\n    File \"c:\\Users\\GEETHANJALICHARVI\\anaconda3\\envs\\tensorflow_env\\lib\\site-packages\\IPython\\core\\interactiveshell.py\", line 3517, in run_ast_nodes\n      if await self.run_code(code, result, async_=asy):\n    File \"c:\\Users\\GEETHANJALICHARVI\\anaconda3\\envs\\tensorflow_env\\lib\\site-packages\\IPython\\core\\interactiveshell.py\", line 3577, in run_code\n      exec(code_obj, self.user_global_ns, self.user_ns)\n    File \"C:\\Users\\GEETHANJALICHARVI\\AppData\\Local\\Temp\\ipykernel_17708\\3270507978.py\", line 1, in <module>\n      training_history =  model.fit(x=training_set,validation_data=validation_set,epochs=10)\n    File \"c:\\Users\\GEETHANJALICHARVI\\anaconda3\\envs\\tensorflow_env\\lib\\site-packages\\keras\\utils\\traceback_utils.py\", line 65, in error_handler\n      return fn(*args, **kwargs)\n    File \"c:\\Users\\GEETHANJALICHARVI\\anaconda3\\envs\\tensorflow_env\\lib\\site-packages\\keras\\engine\\training.py\", line 1564, in fit\n      tmp_logs = self.train_function(iterator)\n    File \"c:\\Users\\GEETHANJALICHARVI\\anaconda3\\envs\\tensorflow_env\\lib\\site-packages\\keras\\engine\\training.py\", line 1160, in train_function\n      return step_function(self, iterator)\n    File \"c:\\Users\\GEETHANJALICHARVI\\anaconda3\\envs\\tensorflow_env\\lib\\site-packages\\keras\\engine\\training.py\", line 1146, in step_function\n      outputs = model.distribute_strategy.run(run_step, args=(data,))\n    File \"c:\\Users\\GEETHANJALICHARVI\\anaconda3\\envs\\tensorflow_env\\lib\\site-packages\\keras\\engine\\training.py\", line 1135, in run_step\n      outputs = model.train_step(data)\n    File \"c:\\Users\\GEETHANJALICHARVI\\anaconda3\\envs\\tensorflow_env\\lib\\site-packages\\keras\\engine\\training.py\", line 994, in train_step\n      loss = self.compute_loss(x, y, y_pred, sample_weight)\n    File \"c:\\Users\\GEETHANJALICHARVI\\anaconda3\\envs\\tensorflow_env\\lib\\site-packages\\keras\\engine\\training.py\", line 1052, in compute_loss\n      return self.compiled_loss(\n    File \"c:\\Users\\GEETHANJALICHARVI\\anaconda3\\envs\\tensorflow_env\\lib\\site-packages\\keras\\engine\\compile_utils.py\", line 265, in __call__\n      loss_value = loss_obj(y_t, y_p, sample_weight=sw)\n    File \"c:\\Users\\GEETHANJALICHARVI\\anaconda3\\envs\\tensorflow_env\\lib\\site-packages\\keras\\losses.py\", line 152, in __call__\n      losses = call_fn(y_true, y_pred)\n    File \"c:\\Users\\GEETHANJALICHARVI\\anaconda3\\envs\\tensorflow_env\\lib\\site-packages\\keras\\losses.py\", line 272, in call\n      return ag_fn(y_true, y_pred, **self._fn_kwargs)\n    File \"c:\\Users\\GEETHANJALICHARVI\\anaconda3\\envs\\tensorflow_env\\lib\\site-packages\\keras\\losses.py\", line 1990, in categorical_crossentropy\n      return backend.categorical_crossentropy(\n    File \"c:\\Users\\GEETHANJALICHARVI\\anaconda3\\envs\\tensorflow_env\\lib\\site-packages\\keras\\backend.py\", line 5535, in categorical_crossentropy\n      return tf.nn.softmax_cross_entropy_with_logits(\nNode: 'categorical_crossentropy/softmax_cross_entropy_with_logits'\nlogits and labels must be broadcastable: logits_size=[32,38] labels_size=[32,2]\n\t [[{{node categorical_crossentropy/softmax_cross_entropy_with_logits}}]] [Op:__inference_train_function_8248]",
     "output_type": "error",
     "traceback": [
      "\u001b[1;31m-----------------------------------------------------------------------\u001b[0m",
      "\u001b[1;31mInvalidArgumentError\u001b[0m                  Traceback (most recent call last)",
      "Cell \u001b[1;32mIn[164], line 1\u001b[0m\n\u001b[1;32m----> 1\u001b[0m training_history \u001b[38;5;241m=\u001b[39m  \u001b[43mmodel\u001b[49m\u001b[38;5;241;43m.\u001b[39;49m\u001b[43mfit\u001b[49m\u001b[43m(\u001b[49m\u001b[43mx\u001b[49m\u001b[38;5;241;43m=\u001b[39;49m\u001b[43mtraining_set\u001b[49m\u001b[43m,\u001b[49m\u001b[43mvalidation_data\u001b[49m\u001b[38;5;241;43m=\u001b[39;49m\u001b[43mvalidation_set\u001b[49m\u001b[43m,\u001b[49m\u001b[43mepochs\u001b[49m\u001b[38;5;241;43m=\u001b[39;49m\u001b[38;5;241;43m10\u001b[39;49m\u001b[43m)\u001b[49m\n",
      "File \u001b[1;32mc:\\Users\\GEETHANJALICHARVI\\anaconda3\\envs\\tensorflow_env\\lib\\site-packages\\keras\\utils\\traceback_utils.py:70\u001b[0m, in \u001b[0;36mfilter_traceback.<locals>.error_handler\u001b[1;34m(*args, **kwargs)\u001b[0m\n\u001b[0;32m     67\u001b[0m     filtered_tb \u001b[38;5;241m=\u001b[39m _process_traceback_frames(e\u001b[38;5;241m.\u001b[39m__traceback__)\n\u001b[0;32m     68\u001b[0m     \u001b[38;5;66;03m# To get the full stack trace, call:\u001b[39;00m\n\u001b[0;32m     69\u001b[0m     \u001b[38;5;66;03m# `tf.debugging.disable_traceback_filtering()`\u001b[39;00m\n\u001b[1;32m---> 70\u001b[0m     \u001b[38;5;28;01mraise\u001b[39;00m e\u001b[38;5;241m.\u001b[39mwith_traceback(filtered_tb) \u001b[38;5;28;01mfrom\u001b[39;00m \u001b[38;5;28;01mNone\u001b[39;00m\n\u001b[0;32m     71\u001b[0m \u001b[38;5;28;01mfinally\u001b[39;00m:\n\u001b[0;32m     72\u001b[0m     \u001b[38;5;28;01mdel\u001b[39;00m filtered_tb\n",
      "File \u001b[1;32mc:\\Users\\GEETHANJALICHARVI\\anaconda3\\envs\\tensorflow_env\\lib\\site-packages\\tensorflow\\python\\eager\\execute.py:54\u001b[0m, in \u001b[0;36mquick_execute\u001b[1;34m(op_name, num_outputs, inputs, attrs, ctx, name)\u001b[0m\n\u001b[0;32m     52\u001b[0m \u001b[38;5;28;01mtry\u001b[39;00m:\n\u001b[0;32m     53\u001b[0m   ctx\u001b[38;5;241m.\u001b[39mensure_initialized()\n\u001b[1;32m---> 54\u001b[0m   tensors \u001b[38;5;241m=\u001b[39m pywrap_tfe\u001b[38;5;241m.\u001b[39mTFE_Py_Execute(ctx\u001b[38;5;241m.\u001b[39m_handle, device_name, op_name,\n\u001b[0;32m     55\u001b[0m                                       inputs, attrs, num_outputs)\n\u001b[0;32m     56\u001b[0m \u001b[38;5;28;01mexcept\u001b[39;00m core\u001b[38;5;241m.\u001b[39m_NotOkStatusException \u001b[38;5;28;01mas\u001b[39;00m e:\n\u001b[0;32m     57\u001b[0m   \u001b[38;5;28;01mif\u001b[39;00m name \u001b[38;5;129;01mis\u001b[39;00m \u001b[38;5;129;01mnot\u001b[39;00m \u001b[38;5;28;01mNone\u001b[39;00m:\n",
      "\u001b[1;31mInvalidArgumentError\u001b[0m: Graph execution error:\n\nDetected at node 'categorical_crossentropy/softmax_cross_entropy_with_logits' defined at (most recent call last):\n    File \"c:\\Users\\GEETHANJALICHARVI\\anaconda3\\envs\\tensorflow_env\\lib\\runpy.py\", line 196, in _run_module_as_main\n      return _run_code(code, main_globals, None,\n    File \"c:\\Users\\GEETHANJALICHARVI\\anaconda3\\envs\\tensorflow_env\\lib\\runpy.py\", line 86, in _run_code\n      exec(code, run_globals)\n    File \"c:\\Users\\GEETHANJALICHARVI\\anaconda3\\envs\\tensorflow_env\\lib\\site-packages\\ipykernel_launcher.py\", line 18, in <module>\n      app.launch_new_instance()\n    File \"c:\\Users\\GEETHANJALICHARVI\\anaconda3\\envs\\tensorflow_env\\lib\\site-packages\\traitlets\\config\\application.py\", line 1075, in launch_instance\n      app.start()\n    File \"c:\\Users\\GEETHANJALICHARVI\\anaconda3\\envs\\tensorflow_env\\lib\\site-packages\\ipykernel\\kernelapp.py\", line 739, in start\n      self.io_loop.start()\n    File \"c:\\Users\\GEETHANJALICHARVI\\anaconda3\\envs\\tensorflow_env\\lib\\site-packages\\tornado\\platform\\asyncio.py\", line 205, in start\n      self.asyncio_loop.run_forever()\n    File \"c:\\Users\\GEETHANJALICHARVI\\anaconda3\\envs\\tensorflow_env\\lib\\asyncio\\base_events.py\", line 603, in run_forever\n      self._run_once()\n    File \"c:\\Users\\GEETHANJALICHARVI\\anaconda3\\envs\\tensorflow_env\\lib\\asyncio\\base_events.py\", line 1909, in _run_once\n      handle._run()\n    File \"c:\\Users\\GEETHANJALICHARVI\\anaconda3\\envs\\tensorflow_env\\lib\\asyncio\\events.py\", line 80, in _run\n      self._context.run(self._callback, *self._args)\n    File \"c:\\Users\\GEETHANJALICHARVI\\anaconda3\\envs\\tensorflow_env\\lib\\site-packages\\ipykernel\\kernelbase.py\", line 545, in dispatch_queue\n      await self.process_one()\n    File \"c:\\Users\\GEETHANJALICHARVI\\anaconda3\\envs\\tensorflow_env\\lib\\site-packages\\ipykernel\\kernelbase.py\", line 534, in process_one\n      await dispatch(*args)\n    File \"c:\\Users\\GEETHANJALICHARVI\\anaconda3\\envs\\tensorflow_env\\lib\\site-packages\\ipykernel\\kernelbase.py\", line 437, in dispatch_shell\n      await result\n    File \"c:\\Users\\GEETHANJALICHARVI\\anaconda3\\envs\\tensorflow_env\\lib\\site-packages\\ipykernel\\ipkernel.py\", line 362, in execute_request\n      await super().execute_request(stream, ident, parent)\n    File \"c:\\Users\\GEETHANJALICHARVI\\anaconda3\\envs\\tensorflow_env\\lib\\site-packages\\ipykernel\\kernelbase.py\", line 778, in execute_request\n      reply_content = await reply_content\n    File \"c:\\Users\\GEETHANJALICHARVI\\anaconda3\\envs\\tensorflow_env\\lib\\site-packages\\ipykernel\\ipkernel.py\", line 449, in do_execute\n      res = shell.run_cell(\n    File \"c:\\Users\\GEETHANJALICHARVI\\anaconda3\\envs\\tensorflow_env\\lib\\site-packages\\ipykernel\\zmqshell.py\", line 549, in run_cell\n      return super().run_cell(*args, **kwargs)\n    File \"c:\\Users\\GEETHANJALICHARVI\\anaconda3\\envs\\tensorflow_env\\lib\\site-packages\\IPython\\core\\interactiveshell.py\", line 3075, in run_cell\n      result = self._run_cell(\n    File \"c:\\Users\\GEETHANJALICHARVI\\anaconda3\\envs\\tensorflow_env\\lib\\site-packages\\IPython\\core\\interactiveshell.py\", line 3130, in _run_cell\n      result = runner(coro)\n    File \"c:\\Users\\GEETHANJALICHARVI\\anaconda3\\envs\\tensorflow_env\\lib\\site-packages\\IPython\\core\\async_helpers.py\", line 128, in _pseudo_sync_runner\n      coro.send(None)\n    File \"c:\\Users\\GEETHANJALICHARVI\\anaconda3\\envs\\tensorflow_env\\lib\\site-packages\\IPython\\core\\interactiveshell.py\", line 3334, in run_cell_async\n      has_raised = await self.run_ast_nodes(code_ast.body, cell_name,\n    File \"c:\\Users\\GEETHANJALICHARVI\\anaconda3\\envs\\tensorflow_env\\lib\\site-packages\\IPython\\core\\interactiveshell.py\", line 3517, in run_ast_nodes\n      if await self.run_code(code, result, async_=asy):\n    File \"c:\\Users\\GEETHANJALICHARVI\\anaconda3\\envs\\tensorflow_env\\lib\\site-packages\\IPython\\core\\interactiveshell.py\", line 3577, in run_code\n      exec(code_obj, self.user_global_ns, self.user_ns)\n    File \"C:\\Users\\GEETHANJALICHARVI\\AppData\\Local\\Temp\\ipykernel_17708\\3270507978.py\", line 1, in <module>\n      training_history =  model.fit(x=training_set,validation_data=validation_set,epochs=10)\n    File \"c:\\Users\\GEETHANJALICHARVI\\anaconda3\\envs\\tensorflow_env\\lib\\site-packages\\keras\\utils\\traceback_utils.py\", line 65, in error_handler\n      return fn(*args, **kwargs)\n    File \"c:\\Users\\GEETHANJALICHARVI\\anaconda3\\envs\\tensorflow_env\\lib\\site-packages\\keras\\engine\\training.py\", line 1564, in fit\n      tmp_logs = self.train_function(iterator)\n    File \"c:\\Users\\GEETHANJALICHARVI\\anaconda3\\envs\\tensorflow_env\\lib\\site-packages\\keras\\engine\\training.py\", line 1160, in train_function\n      return step_function(self, iterator)\n    File \"c:\\Users\\GEETHANJALICHARVI\\anaconda3\\envs\\tensorflow_env\\lib\\site-packages\\keras\\engine\\training.py\", line 1146, in step_function\n      outputs = model.distribute_strategy.run(run_step, args=(data,))\n    File \"c:\\Users\\GEETHANJALICHARVI\\anaconda3\\envs\\tensorflow_env\\lib\\site-packages\\keras\\engine\\training.py\", line 1135, in run_step\n      outputs = model.train_step(data)\n    File \"c:\\Users\\GEETHANJALICHARVI\\anaconda3\\envs\\tensorflow_env\\lib\\site-packages\\keras\\engine\\training.py\", line 994, in train_step\n      loss = self.compute_loss(x, y, y_pred, sample_weight)\n    File \"c:\\Users\\GEETHANJALICHARVI\\anaconda3\\envs\\tensorflow_env\\lib\\site-packages\\keras\\engine\\training.py\", line 1052, in compute_loss\n      return self.compiled_loss(\n    File \"c:\\Users\\GEETHANJALICHARVI\\anaconda3\\envs\\tensorflow_env\\lib\\site-packages\\keras\\engine\\compile_utils.py\", line 265, in __call__\n      loss_value = loss_obj(y_t, y_p, sample_weight=sw)\n    File \"c:\\Users\\GEETHANJALICHARVI\\anaconda3\\envs\\tensorflow_env\\lib\\site-packages\\keras\\losses.py\", line 152, in __call__\n      losses = call_fn(y_true, y_pred)\n    File \"c:\\Users\\GEETHANJALICHARVI\\anaconda3\\envs\\tensorflow_env\\lib\\site-packages\\keras\\losses.py\", line 272, in call\n      return ag_fn(y_true, y_pred, **self._fn_kwargs)\n    File \"c:\\Users\\GEETHANJALICHARVI\\anaconda3\\envs\\tensorflow_env\\lib\\site-packages\\keras\\losses.py\", line 1990, in categorical_crossentropy\n      return backend.categorical_crossentropy(\n    File \"c:\\Users\\GEETHANJALICHARVI\\anaconda3\\envs\\tensorflow_env\\lib\\site-packages\\keras\\backend.py\", line 5535, in categorical_crossentropy\n      return tf.nn.softmax_cross_entropy_with_logits(\nNode: 'categorical_crossentropy/softmax_cross_entropy_with_logits'\nlogits and labels must be broadcastable: logits_size=[32,38] labels_size=[32,2]\n\t [[{{node categorical_crossentropy/softmax_cross_entropy_with_logits}}]] [Op:__inference_train_function_8248]"
     ]
    }
   ],
   "source": [
    "training_history =  model.fit(x=training_set,validation_data=validation_set,epochs=10)"
   ]
  },
  {
   "cell_type": "code",
   "execution_count": 165,
   "id": "b356ce96-d98f-4e2b-9663-253b6fd199e3",
   "metadata": {},
   "outputs": [],
   "source": [
    "model.add(Dense(num_classes, activation='softmax'))  # Ensure num_classes is correct\n"
   ]
  },
  {
   "cell_type": "code",
   "execution_count": null,
   "id": "c1e804fb-8137-44a7-8ae4-076765a106c2",
   "metadata": {},
   "outputs": [],
   "source": []
  }
 ],
 "metadata": {
  "kernelspec": {
   "display_name": "Python 3 (ipykernel)",
   "language": "python",
   "name": "python3"
  },
  "language_info": {
   "codemirror_mode": {
    "name": "ipython",
    "version": 3
   },
   "file_extension": ".py",
   "mimetype": "text/x-python",
   "name": "python",
   "nbconvert_exporter": "python",
   "pygments_lexer": "ipython3",
   "version": "3.10.15"
  }
 },
 "nbformat": 4,
 "nbformat_minor": 5
}
